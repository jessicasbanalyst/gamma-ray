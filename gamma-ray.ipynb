{
 "cells": [
  {
   "cell_type": "code",
   "execution_count": 1,
   "id": "3cfb28fd",
   "metadata": {},
   "outputs": [],
   "source": [
    "import pandas as pd\n",
    "import numpy as np\n",
    "import matplotlib.pyplot as plt\n",
    "import scipy.stats"
   ]
  },
  {
   "cell_type": "code",
   "execution_count": 2,
   "id": "0813d340",
   "metadata": {},
   "outputs": [],
   "source": [
    "# load data from the CSV file\n",
    "gamma_data = pd.read_csv('/Users/jessicaschatz/Documents/Learning/MIT/Data Analysis- Statistical Modeling and Computation in Applications/Homework/Homework 1/data_and_materials/gamma-ray.csv')"
   ]
  },
  {
   "cell_type": "code",
   "execution_count": 3,
   "id": "3f580bc7",
   "metadata": {},
   "outputs": [
    {
     "name": "stdout",
     "output_type": "stream",
     "text": [
      "H0 = 0.0038808514969907496\n",
      "H1 = 0     0.000000\n",
      "1     0.000000\n",
      "2     0.000000\n",
      "3     0.000000\n",
      "4     0.009804\n",
      "        ...   \n",
      "95    0.025840\n",
      "96    0.000000\n",
      "97    0.000000\n",
      "98    0.000000\n",
      "99    0.000000\n",
      "Length: 100, dtype: float64\n"
     ]
    }
   ],
   "source": [
    "# For H0, the MLE estimator is a single average rate over the whole dataset\n",
    "lambda_hat_H0 = gamma_data['count'].sum()/gamma_data['seconds'].sum()\n",
    "# For H1, each bin has its own parameter, lambda_i, and so the MLE estimator is an array of rates for each bin\n",
    "lambdas_hat_H1 = gamma_data['count']/gamma_data['seconds']\n",
    "print(\"H0 = {}\".format(lambda_hat_H0))\n",
    "print(\"H1 = {}\".format(lambdas_hat_H1))"
   ]
  },
  {
   "cell_type": "code",
   "execution_count": 4,
   "id": "d94daea2",
   "metadata": {},
   "outputs": [
    {
     "data": {
      "image/png": "[encoded data removed]",
      "text/plain": [
       "<Figure size 432x288 with 1 Axes>"
      ]
     },
     "metadata": {
      "needs_background": "light"
     },
     "output_type": "display_data"
    }
   ],
   "source": [
    "# Here we plot the chi^2 distribution for 99 degrees of freedom in the range of insterest (around the mean)\n",
    "plot_Xs = np.arange(50,150,0.1)\n",
    "plt.plot(plot_Xs, scipy.stats.chi2.pdf(plot_Xs, 99))\n",
    "plt.show()"
   ]
  },
  {
   "cell_type": "code",
   "execution_count": 5,
   "id": "eaae8929",
   "metadata": {},
   "outputs": [
    {
     "data": {
      "text/plain": [
       "123.22522145336181"
      ]
     },
     "execution_count": 5,
     "metadata": {},
     "output_type": "execute_result"
    }
   ],
   "source": [
    "# The p-value for Lambda can be calculated using the survival function for the chi^2 distribution.\n",
    "# Thus, we can calculate the Lambda that would give a p-value of 0.05 by using the inverse survival function\n",
    "scipy.stats.chi2.isf(0.05, 99)"
   ]
  },
  {
   "cell_type": "code",
   "execution_count": 6,
   "id": "b50d20ce",
   "metadata": {},
   "outputs": [
    {
     "name": "stdout",
     "output_type": "stream",
     "text": [
      "104.39792133021314 0.33576662402509894\n"
     ]
    }
   ],
   "source": [
    "def likelihood_H0(lamb):\n",
    "  # The likelihood function is a product of Poisson distributions. For H0, each Poisson distribution\n",
    "  # has the same mean.\n",
    "  return scipy.stats.poisson.pmf(gamma_data['count'], gamma_data['seconds']*lamb).prod(axis=0)\n",
    "\n",
    "def likelihood_H1(lambs):\n",
    "  # For H1, the means for the Poisson distributions are given by the parameter 'lambs'\n",
    "  return scipy.stats.poisson.pmf(gamma_data['count'], gamma_data['seconds']*lambs).prod(axis=0)\n",
    "\n",
    "# The test statistic for the MLE is given by calculating the likelihood ratio for the MLE estimators\n",
    "# calculated earlier.\n",
    "Lambda_observed = -2*np.log(likelihood_H0(lambda_hat_H0)/likelihood_H1(lambdas_hat_H1))\n",
    "# Now we can use the survival function to find the p-value for the observed data\n",
    "# with the MLE estimators.\n",
    "pvalue = scipy.stats.chi2.sf(Lambda_observed, 99)\n",
    "print(Lambda_observed, pvalue)"
   ]
  }
 ],
 "metadata": {
  "kernelspec": {
   "display_name": "Python 3 (ipykernel)",
   "language": "python",
   "name": "python3"
  },
  "language_info": {
   "codemirror_mode": {
    "name": "ipython",
    "version": 3
   },
   "file_extension": ".py",
   "mimetype": "text/x-python",
   "name": "python",
   "nbconvert_exporter": "python",
   "pygments_lexer": "ipython3",
   "version": "3.9.12"
  }
 },
 "nbformat": 4,
 "nbformat_minor": 5
}
